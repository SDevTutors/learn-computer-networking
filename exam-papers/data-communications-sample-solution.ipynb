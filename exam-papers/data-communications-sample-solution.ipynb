{
 "cells": [
  {
   "cell_type": "markdown",
   "metadata": {},
   "source": [
    "# Data Communications - 2023 - Winter - Sample Exam Paper"
   ]
  },
  {
   "cell_type": "markdown",
   "metadata": {},
   "source": [
    "\n",
    "## WINTER EXAMINATIONS\n",
    "\n",
    "| **MODULE:**  **PROGRAMME(S):**          | CONE07001-Data Comms                                                   |\n",
    "|:----------------------------------------|:-----------------------------------------------------------------------|\n",
    "| LC\\_KNSMM\\_KMY                          | Bachelor of Science (Honours) Computer Networks and Systems Management |\n",
    "|                                         |                                                                        |\n",
    "| **YEAR OF STUDY:**  ** **EXAMINER(S):** | 3                                                                      |\n",
    "| **TIME ALLOWED:**                       | **2.5 HOURS**                                                          |\n",
    "| **INSTRUCTIONS:**                       | **Answer 4 questions. All questions carry equal marks.**               |\n",
    "\n",
    "**Additional Attachments or Exam Material to accompany this paper:**\n",
    "**\n",
    "\n",
    "**A.** The use of a maximum of 2 single sided A4 sized pages of personal notes is permitted. Notes may include text, formulae and diagrams and must be typed in font no smaller than 10 points.\n",
    "\n",
    "**PLEASE DO NOT TURN OVER THIS PAGE UNTIL YOU ARE INSTRUCTED TO DO SO.**\n",
    "\n",
    "The use of programmable or text storing calculators is expressly forbidden.\n",
    "\n",
    "Please note that where a candidate answers more than the required number of questions, the examiner will mark all questions attempted and then select the highest scoring ones.\n",
    "\n",
    "**Requirements for this paper:**  \n",
    "\n",
    "1. Log Tables\n",
    "2. Calculators\n"
   ]
  },
  {
   "cell_type": "markdown",
   "metadata": {},
   "source": [
    "## Question 1 [Total Marks: 25]"
   ]
  },
  {
   "cell_type": "markdown",
   "metadata": {},
   "source": [
    "\n",
    "### Question 1.A [4 Marks]\n",
    "\n",
    "Explain the difference between an analogue and a digital signal.  Give two examples of each.\n"
   ]
  },
  {
   "cell_type": "markdown",
   "metadata": {},
   "source": [
    "\n",
    "### Answer 1.A\n",
    "\n",
    "An analogue signal is a continuous signal that varies in amplitude and frequency.  Examples of analogue signals include sound waves and light waves.  A digital signal is a discrete signal that has a finite number of values.  Examples of digital signals include binary signals and digital images.\n"
   ]
  },
  {
   "cell_type": "markdown",
   "metadata": {},
   "source": [
    "\n",
    "### Question 1.B [7 Marks]\n",
    "\n",
    "A sine wave is described by:\n",
    "\n",
    "$$y(t) = 2sin(6284t + \\frac{\\pi}{4}\\text{rads})$$\n",
    "\n",
    "Sketch the sine wave, clearly labelling each axis with appropriate units.\n"
   ]
  },
  {
   "cell_type": "markdown",
   "metadata": {},
   "source": [
    "\n",
    "### Answer 1.B\n",
    "\n",
    "The sine wave is sketched below:\n",
    "\n",
    "1. **Amplitude (A)**: 2\n",
    "2. **Frequency** ($f$): $\\frac{6284}{2\\pi} \\approx 1000$Hz\n",
    "3. **Phase Shift ($\\phi$)**: $\\frac{\\pi}{4}$\n",
    "4. **X-axis**: Time (t) in milliseconds\n",
    "5. **Y-axis**: Amplitude (V)\n",
    "\n",
    "To draw the sine wave,\n",
    "\n",
    "1. Calculate the period of the wave.  The period is given by:\n",
    "   $$T = \\frac{1}{f} = \\frac{1}{1,000} = 1ms$$\n",
    "   To draw one wave the x-axis is labelled from 0 to 1ms because the period is 1ms.\n",
    "\n",
    "2. Calculate the amplitude of the wave.  The amplitude is given by:\n",
    "   $$A = 2$$\n",
    "   The Y axis is labelled from -2 to 2, with the high point at 2 and the low point at -2.\n",
    "\n",
    "3. Calculate the starting point of the wave you need the phase shift.  The phase shift is given by:\n",
    "   $$\\phi = \\frac{\\pi}{4}$$\n",
    "   The starting point is given by:\n",
    "   $$y(0) = 2sin(\\frac{\\pi}{4}) \\approx 2sin(0.785) \\approx 1.57$$ and it is 2 sin because the amplitude is 2.\n",
    "\n",
    "![Figure](images/data-communications-sample-solution/answer-1-b.png)\n",
    "\n",
    "### Question 1(c) [6 Marks]\n",
    "\n",
    "If the sine wave in part (b) above was sampled at 10kHz, what would be the first 3 sample values?"
   ]
  },
  {
   "cell_type": "markdown",
   "metadata": {},
   "source": [
    "\n",
    "### Answer 1.C\n",
    "\n",
    "The sampling frequency is 10kHz.  The sampling period is given by:\n",
    "\n",
    "f is written in Hz, so 10KHz = 10,000Hz\n",
    "\n",
    "$$T_{s} = \\frac{1}{f_{s}} = \\frac{1}{10,000} = 0.1ms$$\n",
    "\n",
    "First 3 sample values are at $t_0 = 0$, $t_1 = 0.1ms$ and $t_2 = 0.2ms$.\n",
    "\n",
    "$$y(t) = 2sin(6284t + \\frac{\\pi}{4}\\text{rads})$$\n",
    "\n",
    "At $t = 0$  \n",
    "$y(0) = 2sin(6284 \\times 0 + \\frac{\\pi}{4}) = 2sin(\\frac{\\pi}{4}) \\approx 1.57$\n",
    "\n",
    "At $t = 0.1ms$  \n",
    "$y(0.1) = 2sin(6284 \\times 0.1 + \\frac{\\pi}{4})$\n",
    "$y(0.1) = 2sin(628.4 + \\frac{\\pi}{4})$\n",
    "$y(0.1) \\approx 2sin(628.4 + 0.785)$  \n",
    "$y(0.1) \\approx 2sin(629.185) \\approx 1.57$\n",
    "\n",
    "At $t = 0.2ms$  \n",
    "$y(0.2) = 2sin(6284 \\times 0.2 + \\frac{\\pi}{4})$  \n",
    "$y(0.2) = 2sin(1256.8 + \\frac{\\pi}{4})$  \n",
    "$y(0.2) \\approx 2sin(1257.585)$  \n",
    "$y(0.2) \\approx 2sin(1257.585) \\approx -1.57$\n",
    "\n"
   ]
  },
  {
   "cell_type": "markdown",
   "metadata": {},
   "source": [
    "\n",
    "\n",
    "### Question 1(d) [8 Marks]\n"
   ]
  },
  {
   "cell_type": "markdown",
   "metadata": {},
   "source": [
    "\n",
    "A system generates a 2V peak to peak square wave with a period of 1ms.  Sketch the frequency spectrum of the system output.\n",
    "\n",
    "## Question 2 [Total Marks: 25]\n",
    "\n",
    "### Question 2(a) [4 Marks]\n",
    "\n",
    "Explain the difference between the bit rate and the baud of a system\n"
   ]
  },
  {
   "cell_type": "markdown",
   "metadata": {},
   "source": [
    "\n",
    "#### Answer 2(a)\n",
    "\n",
    "**Bit Rate:**:\n",
    "\n",
    "- The number of bits transmitted per second (bps).\n",
    "\n",
    "**Baud Rate:**:\n",
    "\n",
    "- The number of signal units transmitted per second.\n",
    "- Can represent more than one bit per signal unit in higher-order modulation schemes.\n",
    "\n",
    "### Question 2(b) [5 Marks]\n",
    "\n",
    "A system transmits at a bit rate of 1Gbps using 16 signalling levels per symbol.  What is the baud of the system?\n"
   ]
  },
  {
   "cell_type": "markdown",
   "metadata": {},
   "source": [
    "\n",
    "#### Answer 2(b)\n",
    "\n",
    "The baud rate is given by:\n",
    "\n",
    "$$\\text{Baud Rate} = \\frac{\\text{Bit Rate}}{\\log_2(\\text{Number of signalling levels})}$$\n",
    "\n",
    "Substitute the values:\n",
    "\n",
    "- **Bit Rate (R):** 1Gbps = $1 \\times 10^9$ bps\n",
    "- **Number of signalling levels (M):** 16\n",
    "\n",
    "$\\text{Baud Rate} = \\frac{1 \\times 10^9}{\\log_2(16)}$  \n",
    "$\\text{Baud Rate} = \\frac{1 \\times 10^9}{4} = 250 \\times 10^6 \\text{baud}$\n",
    "\n",
    "### Question 2(c) [4 Marks]\n",
    "\n",
    "A low pass channel has a bandwidth of 200kHz.  Assuming zero noise, what is the maximum capacity of this channel?\n"
   ]
  },
  {
   "cell_type": "markdown",
   "metadata": {},
   "source": [
    "\n",
    "#### Answer 2(c)\n",
    "\n",
    "The maximum capacity of a channel is given by the Shannon-Hartley theorem:\n",
    "\n",
    "$$C = B \\log_2(1 + \\frac{S}{N})$$\n",
    "\n",
    "Where:\n",
    "\n",
    "- **B:** Bandwidth of the channel\n",
    "- **S:** Signal power\n",
    "- **N:** Noise power\n",
    "- **C:** Channel capacity\n",
    "\n",
    "For zero noise, \\( N = 0 \\):\n",
    "\n",
    "Since $\\frac{S}{0}$ approaches infinity, we have:\n",
    "\n",
    "$$C = B \\log_2(1 + \\frac{S}{0}) = B \\log_2(\\infty) = B \\times \\infty = \\infty$$\n",
    "\n",
    "However, this is not practical because in real-world scenarios, there is always some noise. For a more realistic approach, consider the case where the signal-to-noise ratio (S/N) is very high but not infinite.\n",
    "\n",
    "If we assume $\\log_2(2) = 1$, the correct formula for zero noise should be:\n",
    "\n",
    "$$C \\approx B \\log_2(2) = B \\cdot 1 = B$$\n"
   ]
  },
  {
   "cell_type": "markdown",
   "metadata": {},
   "source": [
    "\n",
    "### Question 2(d) [12 Marks]\n",
    "\n",
    "![Figure 1](figure-1.jpeg)\n",
    "\n",
    ">Figure 2(d) – Transmission system\n",
    "\n",
    "A data transmission system launches 45mW of power into a cable from transmitter, TX.  The cable is 20km in length and has a loss of 2.5dB per kilometre.  The signal is then amplified using an amplifier with 10db gain before being transmitted via a second cable of length 10km with a loss of 2dB per kilometre. What is the received power level in watts at Rx?\n"
   ]
  },
  {
   "cell_type": "markdown",
   "metadata": {},
   "source": [
    "\n",
    "## Question 3 [Total Marks: 25]\n"
   ]
  },
  {
   "cell_type": "markdown",
   "metadata": {},
   "source": [
    "\n",
    "### Question 3(a) [10 Marks]\n",
    "\n",
    "Draw the constellation diagram for the following modulation schemes:\n",
    "\n",
    "1. ASK with peak amplitude values of 1V and 3V.\n",
    "2. QPSK with a peak amplitude value of 1V and any suitable phases.\n",
    "\n",
    "Ensure that the axes of all diagrams are labelled to show signal amplitudes.\n"
   ]
  },
  {
   "cell_type": "markdown",
   "metadata": {},
   "source": [
    "\n",
    "### Question 3(b) [6 Marks]\n",
    "\n",
    "How many bits can fit on a 1.5km link if the propagation speed is 2.4 x $10^{8}$ m/sec and the bit rate is 25Mb/sec? \n"
   ]
  },
  {
   "cell_type": "markdown",
   "metadata": {},
   "source": [
    "\n",
    "### Question 3(c) [9 Marks]\n",
    "\n",
    "A data transmission scheme is to transmit the following binary data stream:  \n",
    "\n",
    "$$01 \\ 1100\\ 1010$$\n",
    "\n",
    "Assume the last signal level has been positive.  Draw the graph of the output signal for the following coding schemes:\n",
    "\n",
    "1. Manchester\n",
    "2. AMI\n",
    "3. NRZ-L\n"
   ]
  },
  {
   "cell_type": "markdown",
   "metadata": {},
   "source": [
    "\n",
    "## Question 4 [Total Marks: 25]\n"
   ]
  },
  {
   "cell_type": "markdown",
   "metadata": {},
   "source": [
    "\n",
    "### Question 4(a) [4 Marks]\n",
    "\n",
    "What is the main advantage of Return to Zero (RZ) line coding schemes, for example Manchester Encoding, over Non-Return to Zero (NRZ) line coding schemes such as NRZ-I?  How is this advantage achieved?\n"
   ]
  },
  {
   "cell_type": "markdown",
   "metadata": {},
   "source": [
    "\n",
    "### Question 4(b) [2 Marks]\n",
    "\n",
    "Calculate the RMS Voltage of the following sine wave:  \n",
    "\n",
    "$$V(t) = 312sin(314t + 1.1\\text{rad})$$\n"
   ]
  },
  {
   "cell_type": "markdown",
   "metadata": {},
   "source": [
    "\n",
    "### Question 4(c) [9 Marks]\n",
    "\n",
    "Write brief notes explaining any **three** of the following wireless terms:\n",
    "\n",
    "1. Atmospheric absorption\n",
    "2. Multipath\n",
    "3. Reflection\n",
    "4. Scattering\n",
    "5. Inter-symbol interference (ISI)\n"
   ]
  },
  {
   "cell_type": "markdown",
   "metadata": {},
   "source": [
    "\n",
    "### Question 4(d) [10 Marks]\n",
    "\n",
    "A dish antenna operates at 2.4GHz with a gain of 7.1dBi. Calculate the effective area of the antenna.\n"
   ]
  },
  {
   "cell_type": "markdown",
   "metadata": {},
   "source": [
    "\n",
    "## Question 5 [Total Marks: 25]\n"
   ]
  },
  {
   "cell_type": "markdown",
   "metadata": {},
   "source": [
    "\n",
    "### Question 5(a) [2 Marks]\n",
    "\n",
    "Explain the meaning of the term \"antenna reciprocity\".\n"
   ]
  },
  {
   "cell_type": "markdown",
   "metadata": {},
   "source": [
    "\n",
    "### Question 5(b) [5 Marks]\n",
    "\n",
    "Explain the term counterpoise as used in antenna design and outline how one could be constructed.\n",
    "\n",
    "### Question 5(c) [10 Marks]\n",
    "\n",
    "Calculate the bandwidth of a 10mm x 12mm planar antenna.\n",
    "\n",
    "### Question 5(d) [5 Marks]\n",
    "\n",
    "Calculate the effective (or radio) line of sight for two antennas mounted on 10m high masts.\n",
    "\n",
    "### Question 5(e) [3 Marks]\n",
    "\n",
    "List and briefly explain three LOS wireless transmission impairments.\n",
    "\n",
    "---\n"
   ]
  }
 ],
 "metadata": {
  "language_info": {
   "name": "python"
  }
 },
 "nbformat": 4,
 "nbformat_minor": 2
}

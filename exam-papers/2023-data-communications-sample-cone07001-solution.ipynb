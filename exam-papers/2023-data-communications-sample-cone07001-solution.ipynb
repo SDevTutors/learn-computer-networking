{
 "cells": [
  {
   "cell_type": "markdown",
   "metadata": {},
   "source": [
    "# Data Communications - CONE07001 - Exam Paper - 2023 - Sample"
   ]
  },
  {
   "cell_type": "markdown",
   "metadata": {},
   "source": [
    "## Instructions"
   ]
  },
  {
   "cell_type": "markdown",
   "metadata": {},
   "source": [
    "**Time Allowed:** 2.5 hours  \n",
    "\n",
    "**Instructions:** Answer any 4 questions. All questions carry equal marks.  \n",
    "\n",
    "The use of programmable or text storing calculators is expressly forbidden.  \n",
    "\n",
    "Please note that where a candidate answers more than the required number of questions, the examiner will mark all questions attempted and then select the highest scoring ones.\n",
    "\n",
    "**Exam Materials to accompany this paper:**  \n",
    "\n",
    "- The use of a maximum of 2 single sided A4 sized pages of personal notes is permitted. Notes may include text, formulae and diagrams and must be typed in font no smaller than 10 points.\n",
    "\n",
    "**Requirements for this paper:**  \n",
    "\n",
    "1. Log Tables\n",
    "2. Calculators"
   ]
  },
  {
   "cell_type": "markdown",
   "metadata": {},
   "source": [
    "## Question 1 [Total Marks: 25]"
   ]
  },
  {
   "cell_type": "markdown",
   "metadata": {},
   "source": [
    "### Question 1.A (4 Marks)"
   ]
  },
  {
   "cell_type": "markdown",
   "metadata": {},
   "source": [
    "\n",
    "Explain the difference between an analogue and a digital signal. Give two examples of each."
   ]
  },
  {
   "cell_type": "markdown",
   "metadata": {},
   "source": [
    "### Answer 1.A"
   ]
  },
  {
   "cell_type": "markdown",
   "metadata": {},
   "source": [
    "An analogue signal is a continuous signal that varies in amplitude and frequency. Examples of analogue signals include sound waves and light waves. A digital signal is a discrete signal that has a finite number of values. Examples of digital signals include binary signals and digital images."
   ]
  },
  {
   "cell_type": "markdown",
   "metadata": {},
   "source": [
    "### Question 1.B (7 Marks)"
   ]
  },
  {
   "cell_type": "markdown",
   "metadata": {},
   "source": [
    "A sine wave is described by:\n",
    "\n",
    "$$y(t) = 2sin(6284t + \\frac{\\pi}{4}\\text{rads})$$\n",
    "\n",
    "Sketch the sine wave, clearly labelling each axis with appropriate units."
   ]
  },
  {
   "cell_type": "markdown",
   "metadata": {},
   "source": [
    "\n",
    "### Answer 1.B\n",
    "\n",
    "The sine wave is sketched below:\n",
    "\n",
    "1. **Amplitude (A)**: 2\n",
    "2. **Frequency** ($f$): $\\frac{6284}{2\\pi} \\approx 1000Hz$  \n",
    "3. **Phase Shift ($\\phi$)**: $\\frac{\\pi}{4}$\n",
    "4. **X-axis**: Time (t) in milliseconds\n",
    "5. **Y-axis**: Amplitude (V)\n",
    "\n",
    "To draw the sine wave,\n",
    "\n",
    "1. Calculate the period of the wave. The period is given by:\n",
    "   $$T = \\frac{1s}{f} = \\frac{1s}{1,000} = 0.001s = 1ms$$  \n",
    "   To draw one wave the x-axis is labelled from 0ms to 1ms because the period is 1ms.\n",
    "\n",
    "2. Calculate the amplitude of the wave. The amplitude is given by:\n",
    "   $$A = 2$$\n",
    "   The Y axis is labelled from -2 to 2, with the high point at 2 and the low point at -2.\n",
    "\n",
    "3. Calculate the starting point of the wave you need the phase shift. The phase shift is given by:\n",
    "   $$\\phi = \\frac{\\pi}{4}$$  \n",
    "   The starting point is given by:  \n",
    "   $y(0) = 2sin(\\frac{\\pi}{4}) \\approx 2sin(0.785) \\approx 1.57$ and it is 2 sin because the amplitude is 2.\n"
   ]
  },
  {
   "cell_type": "code",
   "execution_count": 25,
   "metadata": {},
   "outputs": [
    {
     "data": {
      "image/png": "[encoded data removed]",
      "text/plain": [
       "<Figure size 640x480 with 1 Axes>"
      ]
     },
     "metadata": {},
     "output_type": "display_data"
    }
   ],
   "source": [
    "from numpy import linspace, pi, sin\n",
    "import matplotlib.pyplot as pyplot\n",
    "\n",
    "graph_sample_rate = 1_000\n",
    "\n",
    "amplitude = 2\n",
    "frequency = 1_000\n",
    "phase_shift = pi/4\n",
    "wave_time = linspace(0, 1/frequency, graph_sample_rate)\n",
    "\n",
    "y = amplitude * sin((2 * pi) * frequency * wave_time + phase_shift)\n",
    "\n",
    "pyplot.figure()\n",
    "pyplot.plot(wave_time*1_000, y)\n",
    "pyplot.title('Sine wave')\n",
    "pyplot.xlabel('Time (ms)')\n",
    "pyplot.ylabel('Amplitude (V)')\n",
    "pyplot.grid(True)\n",
    "pyplot.axhline(0, color='black', linewidth=0.5)\n",
    "pyplot.axvline(0, color='black', linewidth=0.5)\n",
    "pyplot.ylim((amplitude+0.5)*-1, amplitude+0.5)\n",
    "pyplot.xlim(0, 1/frequency*graph_sample_rate)\n",
    "pyplot.show()\n"
   ]
  },
  {
   "cell_type": "markdown",
   "metadata": {},
   "source": [
    "### Question 1(c) (6 Marks)"
   ]
  },
  {
   "cell_type": "markdown",
   "metadata": {
    "notebookRunGroups": {
     "groupValue": "1"
    }
   },
   "source": [
    "If the sine wave in part 1.B above was sampled at 10kHz, what would be the first 3 sample values?"
   ]
  },
  {
   "cell_type": "markdown",
   "metadata": {},
   "source": [
    "### Answer 1.C"
   ]
  },
  {
   "cell_type": "markdown",
   "metadata": {},
   "source": [
    "\n",
    "The sampling frequency is 10kHz. The sampling period is given by:\n",
    "\n",
    "f is written in Hz, so 10KHz = 10,000Hz\n",
    "\n",
    "$$T_{s} = \\frac{1}{f_{s}} = \\frac{1}{10,000} = 0.1ms$$\n",
    "\n",
    "First 3 sample values are at $t_0 = 0$, $t_1 = 0.1ms$ and $t_2 = 0.2ms$.\n",
    "\n",
    "$$y(t) = 2sin(6284t + \\frac{\\pi}{4}\\text{rads})$$\n",
    "\n",
    "At $t = 0$  \n",
    "$y(0) = 2sin(6284 \\times 0 + \\frac{\\pi}{4}) = 2sin(\\frac{\\pi}{4}) \\approx 1.41$  \n",
    "\n",
    "At $t = 0.1ms$  \n",
    "$y(0.1) = 2sin(6284 \\times 0.1 + \\frac{\\pi}{4})$  \n",
    "$y(0.1) = 2sin(628.4 + \\frac{\\pi}{4})$  \n",
    "$y(0.1) \\approx 2sin(628.4 + 0.785)$  \n",
    "$y(0.1) \\approx 2sin(629.185) \\approx 1.57$\n",
    "\n",
    "At $t = 0.2ms$  \n",
    "$y(0.2) = 2sin(6284 \\times 0.2 + \\frac{\\pi}{4})$  \n",
    "$y(0.2) = 2sin(1256.8 + \\frac{\\pi}{4})$  \n",
    "$y(0.2) \\approx 2sin(1,256.8 + 0.785)$  \n",
    "$y(0.2) \\approx 2sin(1,257.585)$  \n",
    "$y(0.2) \\approx 2*(0.81) \\approx 1.62$  \n",
    "$$\\boxed{\\text{Sample Values: }1.41V, 1.57V, 1.62V}$$\n",
    "\n",
    "\n"
   ]
  },
  {
   "cell_type": "code",
   "execution_count": 34,
   "metadata": {},
   "outputs": [
    {
     "name": "stdout",
     "output_type": "stream",
     "text": [
      "1.41\n",
      "1.52\n",
      "1.62\n"
     ]
    }
   ],
   "source": [
    "values = [0.0, 0.1, 0.2]\n",
    "\n",
    "for value in values:\n",
    "    print(f\"{2*sin(6284*value + pi/4):.2f}\")\n"
   ]
  },
  {
   "cell_type": "markdown",
   "metadata": {},
   "source": [
    "### Question 1(d) (8 Marks)"
   ]
  },
  {
   "cell_type": "markdown",
   "metadata": {},
   "source": [
    "\n",
    "A system generates a 2V peak to peak square wave with a period of 1ms. Sketch the frequency spectrum of the system output.\n",
    "\n",
    "## Question 2 [Total Marks: 25]\n",
    "\n",
    "### Question 2(a) (4 Marks)\n",
    "\n",
    "Explain the difference between the bit rate and the baud of a system\n"
   ]
  },
  {
   "cell_type": "markdown",
   "metadata": {},
   "source": [
    "\n",
    "#### Answer 2(a)\n",
    "\n",
    "**Bit Rate:**:\n",
    "\n",
    "- The number of bits transmitted per second (bps).\n",
    "\n",
    "**Baud Rate:**:\n",
    "\n",
    "- The number of signal units transmitted per second.\n",
    "- Can represent more than one bit per signal unit in higher-order modulation schemes.\n",
    "\n",
    "### Question 2(b) (5 Marks)\n",
    "\n",
    "A system transmits at a bit rate of 1Gbps using 16 signalling levels per symbol. What is the baud of the system?\n"
   ]
  },
  {
   "cell_type": "markdown",
   "metadata": {},
   "source": [
    "\n",
    "#### Answer 2(b)\n",
    "\n",
    "The baud rate is given by:\n",
    "\n",
    "$$\\text{Baud Rate} = \\frac{\\text{Bit Rate}}{\\log_2(\\text{Number of signalling levels})}$$\n",
    "\n",
    "Substitute the values:\n",
    "\n",
    "- **Bit Rate (R):** 1Gbps = $1 \\times 10^9$ bps\n",
    "- **Number of signalling levels (M):** 16\n",
    "\n",
    "$\\text{Baud Rate} = \\frac{1 \\times 10^9}{\\log_2(16)}$  \n",
    "$\\text{Baud Rate} = \\frac{1 \\times 10^9}{4} = 250 \\times 10^6 \\text{baud}$\n",
    "\n",
    "### Question 2(c) (4 Marks)\n",
    "\n",
    "A low pass channel has a bandwidth of 200kHz. Assuming zero noise, what is the maximum capacity of this channel?\n"
   ]
  },
  {
   "cell_type": "markdown",
   "metadata": {},
   "source": [
    "\n",
    "#### Answer 2(c)\n",
    "\n",
    "The maximum capacity of a channel is given by the Shannon-Hartley theorem:\n",
    "\n",
    "$$C = B \\log_2(1 + \\frac{S}{N})$$\n",
    "\n",
    "Where:\n",
    "\n",
    "- **B:** Bandwidth of the channel\n",
    "- **S:** Signal power\n",
    "- **N:** Noise power\n",
    "- **C:** Channel capacity\n",
    "\n",
    "For zero noise, \\( N = 0 \\):\n",
    "\n",
    "Since $\\frac{S}{0}$ approaches infinity, we have:\n",
    "\n",
    "$$C = B \\log_2(1 + \\frac{S}{0}) = B \\log_2(\\infty) = B \\times \\infty = \\infty$$\n",
    "\n",
    "However, this is not practical because in real-world scenarios, there is always some noise. For a more realistic approach, consider the case where the signal-to-noise ratio (S/N) is very high but not infinite.\n",
    "\n",
    "If we assume $\\log_2(2) = 1$, the correct formula for zero noise should be:\n",
    "\n",
    "$$C \\approx B \\log_2(2) = B \\cdot 1 = B$$\n"
   ]
  },
  {
   "cell_type": "markdown",
   "metadata": {},
   "source": [
    "### Question 2.D (12 Marks)"
   ]
  },
  {
   "cell_type": "markdown",
   "metadata": {},
   "source": [
    "```mermaid\n",
    "graph LR\n",
    "    tx((\"TX<br/>45mW\"))\n",
    "    amplifier{\"Amplifier<br/>Gain = 10dB\"}\n",
    "    rx((\"Rx\"))\n",
    "    tx-->|\"Cable<br/>Length = 20km<br/>Loss = 2.5dB/km\"| amplifier\n",
    "    amplifier --> |\"Cable<br/>Length = 10km<br/>Loss = 2.0dB/km\"| rx\n",
    "````"
   ]
  },
  {
   "cell_type": "markdown",
   "metadata": {},
   "source": [
    "![Figure 1](figure-1.jpeg)\n",
    "\n",
    ">Figure 2(d) – Transmission system\n",
    "\n",
    "A data transmission system launches 45mW of power into a cable from transmitter, TX. The cable is 20km in length and has a loss of 2.5dB per kilometre. The signal is then amplified using an amplifier with 10db gain before being transmitted via a second cable of length 10km with a loss of 2dB per kilometre. What is the received power level in watts at Rx?"
   ]
  },
  {
   "cell_type": "markdown",
   "metadata": {},
   "source": [
    "## Question 3 [Total Marks: 25]"
   ]
  },
  {
   "cell_type": "markdown",
   "metadata": {},
   "source": [
    "### Question 3.A (10 Marks)"
   ]
  },
  {
   "cell_type": "markdown",
   "metadata": {},
   "source": [
    "Draw the constellation diagram for the following modulation schemes:\n",
    "\n",
    "*Ensure that the axes of all diagrams are labelled to show signal amplitudes.*"
   ]
  },
  {
   "cell_type": "markdown",
   "metadata": {},
   "source": [
    "#### Question 3.A.1"
   ]
  },
  {
   "cell_type": "markdown",
   "metadata": {},
   "source": [
    "ASK with peak amplitude values of 1V and 3V."
   ]
  },
  {
   "cell_type": "markdown",
   "metadata": {},
   "source": [
    "#### Question 3.A.2"
   ]
  },
  {
   "cell_type": "markdown",
   "metadata": {},
   "source": [
    "QPSK with a peak amplitude value of 1V and any suitable phases."
   ]
  },
  {
   "cell_type": "markdown",
   "metadata": {},
   "source": [
    "### Question 3.B (6 Marks)"
   ]
  },
  {
   "cell_type": "markdown",
   "metadata": {},
   "source": [
    "How many bits can fit on a 1.5km link if the propagation speed is 2.4 x $10^{8}$ m/sec and the bit rate is 25Mb/sec?"
   ]
  },
  {
   "cell_type": "markdown",
   "metadata": {},
   "source": [
    "### Question 3.C (9 Marks)"
   ]
  },
  {
   "cell_type": "markdown",
   "metadata": {},
   "source": [
    "A data transmission scheme is to transmit the following binary data stream:  \n",
    "\n",
    "$$01 \\ 1100\\ 1010$$\n",
    "\n",
    "Assume the last signal level has been positive. Draw the graph of the output signal for the following coding schemes:\n",
    "\n",
    "1. Manchester\n",
    "2. AMI\n",
    "3. NRZ-L"
   ]
  },
  {
   "cell_type": "code",
   "execution_count": 4,
   "metadata": {},
   "outputs": [],
   "source": [
    "import matplotlib.pyplot as plt\n",
    "import numpy as np\n",
    "\n",
    "# Define the binary data stream\n",
    "data = \"01 1100 1010\".replace(\" \", \"\")"
   ]
  },
  {
   "cell_type": "markdown",
   "metadata": {},
   "source": [
    "- In NRZ-L, a '0' is typically represented by a high level, and a '1' is represented by a low level (although this can vary by convention, this is the common one).\n",
    "- We are told to assume that the last signal level was positive (high), the coding will be as follows:\n",
    "\n",
    "  - `0` -> High level\n",
    "  - `1` -> Low level\n",
    "\n",
    "So, the NRZ-L encoding for the binary stream `011 0110 1010` is:\n",
    "\n",
    "| 0 | 1 | 1 | 0 | 1 | 1 | 0 | 1 | 0 | 1 | 0 |\n",
    "|---|---|---|---|---|---|---|---|---|---|---|\n",
    "| H | L | L | H | L | L | H | L | H | L | H |"
   ]
  },
  {
   "cell_type": "code",
   "execution_count": 5,
   "metadata": {},
   "outputs": [
    {
     "data": {
      "image/png": "[encoded data removed]",
      "text/plain": [
       "<Figure size 1200x200 with 1 Axes>"
      ]
     },
     "metadata": {},
     "output_type": "display_data"
    }
   ],
   "source": [
    "# Define the time points for each bit in the stream\n",
    "t = np.linspace(0, len(data), len(data) * 100)\n",
    "\n",
    "# NRZ-L encoding\n",
    "nrz_l = np.array([1 if bit == \"0\" else -1 for bit in data for _ in range(100)])\n",
    "\n",
    "# Plotting NRZ-L result\n",
    "plt.figure(figsize=(12, 2))\n",
    "plt.plot(t, nrz_l, drawstyle=\"steps-post\")\n",
    "plt.title(\"NRZ-L Encoding\")\n",
    "plt.ylim([-2, 2])\n",
    "plt.grid(True)\n",
    "plt.show()"
   ]
  },
  {
   "cell_type": "markdown",
   "metadata": {},
   "source": [
    "#### Answer 3.D.2\n",
    "\n",
    "Differential Manchester\n",
    "\n",
    "- In Differential Manchester coding:\n",
    "  - A '0' is represented by a transition at the beginning of the bit period.\n",
    "  - A '1' is represented by no transition at the beginning of the bit period but a transition in the middle.\n",
    "- The scheme assumes that the last signal was positive, so we start with a transition for a '0'.\n",
    "\n",
    "The encoding steps are:\n",
    "\n",
    "| Bit | Encoding                                                                                    |\n",
    "|-----|---------------------------------------------------------------------------------------------|\n",
    "| 0   | Transition (from High to Low) at the start                                                  |\n",
    "| 1   | No transition at the start, but there’s always a transition in the middle of the bit period |\n",
    "| 1   | No transition at the start, with a transition in the middle                                 |\n",
    "| 0   | Transition at the start (from Low to High)                                                  |\n",
    "| 1   | No transition at the start, with a transition in the middle                                 |\n",
    "| 1   | No transition at the start, with a transition in the middle                                 |\n",
    "| 0   | Transition at the start (from High to Low)                                                  |\n",
    "| 1   | No transition at the start, with a transition in the middle                                 |\n",
    "| 0   | Transition at the start (from Low to High)                                                  |\n",
    "| 1   | No transition at the start, with a transition in the middle                                 |\n",
    "| 0   | Transition at the start (from High to Low)                                                  |"
   ]
  },
  {
   "cell_type": "code",
   "execution_count": 6,
   "metadata": {},
   "outputs": [
    {
     "data": {
      "image/png": "[encoded data removed]",
      "text/plain": [
       "<Figure size 1200x200 with 1 Axes>"
      ]
     },
     "metadata": {},
     "output_type": "display_data"
    }
   ],
   "source": [
    "# Define the time points for each bit in the stream\n",
    "t = np.linspace(0, len(data), len(data) * 100)\n",
    "\n",
    "# Differential Manchester encoding\n",
    "diff_manchester = []\n",
    "last_level = 1  # Assume last level was positive (high)\n",
    "for bit in data:\n",
    "    if bit == \"0\":\n",
    "        last_level *= -1\n",
    "        diff_manchester.extend([last_level] * 50 + [-last_level] * 50)\n",
    "    else:\n",
    "        diff_manchester.extend([last_level] * 50 + [-last_level] * 50)\n",
    "        last_level *= -1\n",
    "\n",
    "# Plotting Differential Manchester result\n",
    "plt.figure(figsize=(12, 2))\n",
    "plt.plot(t, diff_manchester, drawstyle=\"steps-post\")\n",
    "plt.title(\"Differential Manchester Encoding\")\n",
    "plt.ylim([-2, 2])\n",
    "plt.grid(True)\n",
    "plt.show()"
   ]
  },
  {
   "cell_type": "markdown",
   "metadata": {},
   "source": [
    "### 3. AMI (Alternate Mark Inversion)\n",
    "\n",
    "- In AMI encoding:\n",
    "  - A '0' is represented by no line signal.\n",
    "  - A '1' is represented by a pulse, alternating in polarity from the previous '1'.\n",
    "  \n",
    "The encoding will be as follows:\n",
    "\n",
    "- **0**: No signal (0 level)\n",
    "- **1**: Positive pulse (since the last signal was positive, the next '1' should be positive)\n",
    "- **1**: Negative pulse (alternating from the previous '1')\n",
    "- **0**: No signal (0 level)\n",
    "- **1**: Positive pulse\n",
    "- **1**: Negative pulse\n",
    "- **0**: No signal (0 level)\n",
    "- **1**: Positive pulse\n",
    "- **0**: No signal (0 level)\n",
    "- **1**: Negative pulse\n",
    "- **0**: No signal (0 level)\n",
    "\n",
    "| Bit Index | 0 | 1 | 2 | 3 | 4 | 5 | 6 | 7 | 8 | 9 | 10 |\n",
    "|-----------|---|---|--:|---|---|---|---|---|---|---|---:|\n",
    "|           | 0 | 1 | 1 | 0 | 1 | 1 | 0 | 1 | 0 | 1 |  0 |\n",
    "| AMI       | 0 | + | - | 0 | + | - | 0 | + | 0 | - |  0 |\n"
   ]
  },
  {
   "cell_type": "code",
   "execution_count": 10,
   "metadata": {},
   "outputs": [
    {
     "data": {
      "image/png": "[encoded data removed]",
      "text/plain": [
       "<Figure size 1200x200 with 1 Axes>"
      ]
     },
     "metadata": {},
     "output_type": "display_data"
    }
   ],
   "source": [
    "# Define the time points for each bit in the stream\n",
    "t = np.linspace(0, len(data), len(data) * 100)\n",
    "\n",
    "# AMI encoding\n",
    "ami = []\n",
    "last_pulse = 1  # Assume last pulse was positive\n",
    "for bit in data:\n",
    "    if bit == \"0\":\n",
    "        ami.extend([0] * 100)\n",
    "    else:\n",
    "        ami.extend([last_pulse] * 100)\n",
    "        last_pulse *= -1\n",
    "\n",
    "# Plotting AMI result\n",
    "plt.figure(figsize=(12, 2))\n",
    "plt.plot(t, ami, drawstyle=\"steps-post\")\n",
    "plt.title(\"AMI Encoding\")\n",
    "plt.ylim([-2, 2])\n",
    "plt.grid(True)\n",
    "plt.show()"
   ]
  },
  {
   "cell_type": "markdown",
   "metadata": {},
   "source": [
    "## Question 4 [Total Marks: 25]"
   ]
  },
  {
   "cell_type": "markdown",
   "metadata": {},
   "source": [
    "### Question 4.A (4 Marks)"
   ]
  },
  {
   "cell_type": "markdown",
   "metadata": {},
   "source": [
    "What is the main advantage of Return to Zero (RZ) line coding schemes, for example Manchester Encoding, over Non-Return to Zero (NRZ) line coding schemes such as NRZ-I? How is this advantage achieved?"
   ]
  },
  {
   "cell_type": "markdown",
   "metadata": {},
   "source": [
    "#### Answer 4.A\n",
    "\n",
    "The main advantage of Return to Zero (RZ) line coding schemes over Non-Return to Zero (NRZ) line coding schemes is that RZ schemes provide better synchronization between the transmitter and receiver. This is achieved by ensuring that the signal returns to zero after each bit period, which helps in clock recovery and reduces the chances of long sequences of 0s or 1s that can cause synchronization issues.\n"
   ]
  },
  {
   "cell_type": "markdown",
   "metadata": {},
   "source": [
    "### Question 4.B (2 Marks)"
   ]
  },
  {
   "cell_type": "markdown",
   "metadata": {},
   "source": [
    "Calculate the RMS Voltage of the following sine wave:  \n",
    "\n",
    "$$V(t) = 312sin(314t + 1.1\\text{rad})$$"
   ]
  },
  {
   "cell_type": "markdown",
   "metadata": {},
   "source": [
    "**To calculate the RMS (Root Mean Square) voltage of a sine wave:**\n",
    "\n",
    "Given:\n",
    "$$ V(t) = 312\\sin(314t + 1.1\\text{rad}) $$\n",
    "\n",
    "The general form of a sine wave is:\n",
    "$$ V(t) = V_m \\sin(\\omega t + \\phi) $$\n",
    "\n",
    "where:\n",
    "- $V_m$ is the peak voltage (amplitude).\n",
    "- $\\omega$ is the angular frequency.\n",
    "- $\\phi$ is the phase angle.\n",
    "\n",
    "**Step 1: Identify the peak voltage $V_m$**\n",
    "\n",
    "From the given equation:\n",
    "$$ V_m = 312 \\, \\text{volts} $$\n",
    "\n",
    "**Step 2: Calculate the RMS voltage**\n",
    "\n",
    "The RMS voltage $V_{RMS}$ of a sine wave is given by:\n",
    "$V_{RMS} = \\dfrac{V_m}{\\sqrt{2}}$  \n",
    "$V_{RMS} = \\dfrac{312}{\\sqrt{2}} \\approx 220.62 \\, \\text{volts}$\n",
    "\n",
    "\n",
    "**The RMS voltage** of the given sine wave is approximately $220.62 \\, \\text{volts}$."
   ]
  },
  {
   "cell_type": "markdown",
   "metadata": {},
   "source": [
    "### Question 4.C (9 Marks)"
   ]
  },
  {
   "cell_type": "markdown",
   "metadata": {},
   "source": [
    "Write brief notes explaining any **three** of the following wireless terms:\n",
    "\n",
    "1. Atmospheric absorption\n",
    "2. Multipath\n",
    "3. Reflection\n",
    "4. Scattering\n",
    "5. Inter-symbol interference (ISI)"
   ]
  },
  {
   "cell_type": "markdown",
   "metadata": {},
   "source": [
    "**1. Atmospheric absorption**\n",
    "\n",
    "Atmospheric absorption refers to the attenuation of radio signals as they pass through the atmosphere. This phenomenon occurs because the atmosphere absorbs some of the signal energy, particularly in certain frequency bands such as millimeter waves and higher frequencies. Factors like water vapor and oxygen molecules in the atmosphere contribute to this absorption, which increases with higher frequencies and longer distances. The effect of atmospheric absorption is significant in wireless communication systems, as it can reduce the signal strength and affect the overall range and reliability of the communication link.\n",
    "\n",
    "**2. Multipath**\n",
    "\n",
    "Multipath occurs when a transmitted wireless signal reaches the receiving antenna via multiple paths. These paths can include direct line-of-sight, reflection, diffraction, and scattering from obstacles like buildings, trees, and other objects. The multiple versions of the signal can interfere with each other, leading to constructive or destructive interference at the receiver. This interference can cause fluctuations in signal strength and quality, known as fading. Multipath is a common issue in wireless communication, especially in urban environments, and can lead to challenges like signal distortion and increased error rates.\n",
    "\n",
    "**3. Inter-symbol interference (ISI)**\n",
    "\n",
    "Inter-symbol interference (ISI) is a form of signal distortion that occurs when one symbol in a digital communication system interferes with subsequent symbols. This happens when the transmitted signal pulses overlap in time, causing the receiver to misinterpret the incoming data. ISI is particularly problematic in high-speed communication systems where signals are transmitted in quick succession. It can lead to increased bit error rates and reduced data transmission quality. Techniques such as equalization and advanced modulation schemes are often employed to mitigate the effects of ISI and improve signal clarity.\n",
    "\n",
    "#### Brief Alt Answer 4.C\n",
    "\n",
    "**1. Atmospheric absorption**\n",
    "\n",
    "Atmospheric absorption is the loss of signal strength as radio waves pass through the atmosphere, mainly due to water vapor and oxygen. This effect is more pronounced at higher frequencies, reducing the effective range of wireless communication.\n",
    "\n",
    "**2. Multipath**\n",
    "\n",
    "Multipath occurs when a signal reaches the receiver through multiple paths due to reflections, diffraction, and scattering. It can cause interference, leading to signal fading and distortion.\n",
    "\n",
    "**3. Inter-symbol interference (ISI)**\n",
    "\n",
    "Inter-symbol interference (ISI) happens when overlapping signal pulses interfere with each other in a digital communication system, causing errors in symbol interpretation and degrading signal quality."
   ]
  },
  {
   "cell_type": "markdown",
   "metadata": {},
   "source": [
    "### Question 4.D (10 Marks)"
   ]
  },
  {
   "cell_type": "markdown",
   "metadata": {},
   "source": [
    "A dish antenna operates at 2.4GHz with a gain of 7.1dBi. Calculate the effective area of the antenna."
   ]
  },
  {
   "cell_type": "markdown",
   "metadata": {},
   "source": [
    "**To calculate the effective area ($A_{eff}$) of the antenna:**\n",
    "\n",
    "The effective area ($A_{eff}$) of a dish antenna is related to its gain ($G$) and the wavelength ($\\lambda$) by the following formula:\n",
    "\n",
    "$$ A_{eff} = \\frac{\\lambda^2 G_{\\text{lin}}}{4\\pi} $$\n",
    "\n",
    "Where:\n",
    "- $G$ is the gain of the antenna in linear terms (not in dBi).\n",
    "- $\\lambda$ is the wavelength, which can be calculated using the frequency $f$ as:\n",
    "\n",
    "$$\\lambda = \\frac{c}{f}$$\n",
    "\n",
    "Here:\n",
    "- $f = 2.4 \\, \\text{GHz} = 2.4 \\times 10^9 \\, \\text{Hz}$\n",
    "- $c = 3 \\times 10^8 \\, \\text{m/s}$ (speed of light)\n",
    "\n",
    "$\\lambda = \\frac{c}{f}$  \n",
    "$\\lambda = \\frac{3 \\times 10^8}{2.4 \\times 10^9} = \\frac{3}{2.4 \\times 10^1} = \\frac{3}{2.4} \\times 10^{-1} = 0.125 \\, \\text{m}$\n",
    "\n",
    "**Step 1: Convert gain from dBi to linear scale**\n",
    "\n",
    "The gain in linear scale ($G_{lin}$) is given by:\n",
    "\n",
    "Given $G_{dBi} = 7.1$  \n",
    "\n",
    "$G_{lin} = 10^{\\frac{G_{dBi}}{10}} = 10^{\\frac{7.1}{10}} = 10^{0.71} \\approx 5.01187$\n",
    "\n",
    "\n",
    "**Step 3: Calculate the effective area $A_{eff}$**\n",
    "\n",
    "Substitute the values into the formula:\n",
    "\n",
    "$$ A_{eff} = \\frac{\\lambda^2 G_{\\text{lin}}}{4\\pi} = \\frac{(0.125)^2 \\times 5.01187}{4\\pi} \\approx \\frac{0.015625 \\times 5.01187}{4\\pi} \\approx \\frac{0.0781}{4\\pi} \\approx 0.00638 \\, \\text{m}^2$$\n",
    "\n",
    "\n",
    "**The effective area** ($A_{eff}$) of the dish antenna is approximately $0.00638 \\, \\text{m}^2$."
   ]
  },
  {
   "cell_type": "code",
   "execution_count": 11,
   "metadata": {},
   "outputs": [
    {
     "data": {
      "text/plain": [
       "0.0063769081549356526"
      ]
     },
     "execution_count": 11,
     "metadata": {},
     "output_type": "execute_result"
    }
   ],
   "source": [
    "import math\n",
    "\n",
    "# Given values\n",
    "f = 2.4e9  # frequency in Hz\n",
    "c = 3e8  # speed of light in m/s\n",
    "G_dBi = 7.1  # Gain in dBi\n",
    "\n",
    "# Step 1: Convert gain from dBi to linear scale\n",
    "G_lin = 10 ** (G_dBi / 10)\n",
    "\n",
    "# Step 2: Calculate the wavelength λ\n",
    "lambda_ = c / f  # wavelength in meters\n",
    "\n",
    "# Step 3: Calculate the effective area A_eff\n",
    "A_eff = (lambda_**2 * G_lin) / (4 * math.pi)\n",
    "A_eff"
   ]
  },
  {
   "cell_type": "markdown",
   "metadata": {},
   "source": [
    "## Question 5 [Total Marks: 25]\n",
    "\n",
    "### Question 5.A (2 Marks)\n",
    "\n",
    "Explain the meaning of the term \"antenna reciprocity\".\n",
    "\n",
    "### Question 5.B (5 Marks)\n",
    "\n",
    "Explain the term counterpoise as used in antenna design and outline how one could be constructed.\n",
    "\n",
    "### Question 5.C (10 Marks)\n",
    "\n",
    "Calculate the bandwidth of a 10mm x 12mm planar antenna.\n",
    "\n",
    "### Question 5.D (5 Marks)\n",
    "\n",
    "Calculate the effective (or radio) line of sight for two antennas mounted on 10m high masts.\n",
    "\n",
    "### Question 5.E (3 Marks)\n",
    "\n",
    "List and briefly explain three LOS wireless transmission impairments."
   ]
  },
  {
   "cell_type": "markdown",
   "metadata": {},
   "source": [
    "---\n",
    "\n",
    "Copyright © 2024 [Mark Crowe](https://github.com/marcocrowe \"MarK Crowe\"). All rights reserved."
   ]
  }
 ],
 "metadata": {
  "kernelspec": {
   "display_name": "base",
   "language": "python",
   "name": "python3"
  },
  "language_info": {
   "codemirror_mode": {
    "name": "ipython",
    "version": 3
   },
   "file_extension": ".py",
   "mimetype": "text/x-python",
   "name": "python",
   "nbconvert_exporter": "python",
   "pygments_lexer": "ipython3",
   "version": "3.12.4"
  }
 },
 "nbformat": 4,
 "nbformat_minor": 2
}
